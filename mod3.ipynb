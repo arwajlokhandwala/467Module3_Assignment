{
  "cells": [
    {
      "cell_type": "markdown",
      "metadata": {
        "id": "1961b0ac-e3c0-4589-ae40-66700357b003"
      },
      "source": [
        "<p>\n",
        "\n",
        "</p>\n"
      ]
    },
    {
      "cell_type": "markdown",
      "metadata": {
        "id": "5a853202-ca82-455d-9416-464500101f4c"
      },
      "source": [
        "**<h1> CSC467 - Module 3 Assignment </h1>**\n"
      ]
    },
    {
      "cell_type": "markdown",
      "metadata": {
        "id": "9e07174c-66f3-4366-8adc-f2f6fc49d3fe"
      },
      "source": [
        "<h2>Objectives</h2>\n"
      ]
    },
    {
      "cell_type": "markdown",
      "metadata": {
        "id": "7d770951-4f4d-4be3-985d-6ef6f0982c73"
      },
      "source": [
        "This assignment covers key concepts in feature extraction and image alignment using OpenCV.\n",
        "\n",
        "It consists of three main parts:\n",
        "\n",
        "- Harris Corner Detector - Implement the Harris Corner Detector and evaluate it on selected\n",
        "images.\n",
        "\n",
        "- Scale Invariance - Explore scale selection using Laplacian and Difference of Gaussian operators.\n",
        "\n",
        "- RANSAC - Solve for an affine transformation between a pair of images using the RANSAC fitting algorithm."
      ]
    },
    {
      "cell_type": "markdown",
      "metadata": {
        "id": "66321b97-4638-478f-83bf-ef1ef95ed889"
      },
      "source": [
        "\n",
        "----\n"
      ]
    },
    {
      "cell_type": "markdown",
      "metadata": {
        "id": "d7c53e4f-63b1-476f-bcf1-04dca8d6a53a"
      },
      "source": [
        "Requirements\n",
        "\n",
        "You should perform this assignment using Python and OpenCV. Submit all your source code, result\n",
        "\n",
        "images, and explanations.\n",
        "\n",
        "Ensure that your code is well-commented for clarity. If you need assistance, refer to OpenCV\n",
        "\n",
        "documentation and relevant online tutorials.\n"
      ]
    },
    {
      "cell_type": "markdown",
      "metadata": {
        "id": "74ebb585-173b-465e-ae1a-d19585fa02c0"
      },
      "source": [
        "## Harris Corner Detection [ 30% ]\n"
      ]
    },
    {
      "cell_type": "markdown",
      "metadata": {
        "id": "7dcca005-a115-4d3a-86b2-d57a1066990d"
      },
      "source": [
        "Implement the Harris Corner Detector using OpenCV's cv2.cornerHarris function.\n",
        "\n",
        "Steps:\n",
        "\n",
        "1. Convert the input image **(cameraman.jpg)** to grayscale.\n",
        "\n",
        "2. Compute image gradients using `cv2.Sobel.`\n",
        "\n",
        "3. Compute the Harris response using `cv2.cornerHarris.`\n",
        "\n",
        "4. Apply non-maximum suppression and thresholding.\n",
        "\n",
        "5. Display the image with detected corners.\n",
        "\n",
        "Apply this function to cameraman.jpg and save the output figure."
      ]
    },
    {
      "cell_type": "code",
      "metadata": {
        "id": "6f257664-5124-46a2-93f5-f4a3cbaac980"
      },
      "outputs": [],
      "source": [
        "plt.figure(figsize=(10,10))\n",
        "plt.subplot(121)\n",
        "plt.imshow(cv2.cvtColor(baboon, cv2.COLOR_BGR2RGB))\n",
        "plt.title(\"baboon\")\n",
        "plt.subplot(122)\n",
        "plt.imshow(cv2.cvtColor(B, cv2.COLOR_BGR2RGB))\n",
        "plt.title(\"array B\")\n",
        "plt.show()"
      ],
      "execution_count": null
    },
    {
      "cell_type": "markdown",
      "metadata": {
        "id": "8329fca7-aff3-4ac8-a236-918ffcb05bc1"
      },
      "source": [
        "## Scale Invariance [ 30% ]\n"
      ]
    },
    {
      "cell_type": "markdown",
      "metadata": {
        "id": "8ef12008-b4ed-4a95-be7c-f9b6fcee8190"
      },
      "source": [
        "Analyze scale selection using the Laplacian and Difference of Gaussian (DoG) operators.\n",
        "\n",
        "Use OpenCV functions such as` cv2.Laplacian` and Gaussian Pyramid methods.\n",
        "\n",
        "1. Load cameraman.jpg and select a feature-rich region.\n",
        "\n",
        "2. Compute the Laplacian and normalized Laplacian at multiple scales.\n",
        "\n",
        "3. Plot the scale-normalized response over different scales.\n",
        "\n",
        "4. Display the image with the selected keypoint and the corresponding detected scale.\n"
      ]
    },
    {
      "cell_type": "code",
      "metadata": {
        "id": "58fae8bb-1e01-45f3-be8c-7a6cf55dbd62"
      },
      "outputs": [],
      "source": [
        "image = cv2.imread(\"cat.png\")\n",
        "plt.figure(figsize=(10,10))\n",
        "plt.imshow(cv2.cvtColor(image, cv2.COLOR_BGR2RGB))\n",
        "plt.show()"
      ],
      "execution_count": null
    },
    {
      "cell_type": "markdown",
      "metadata": {
        "id": "2771d3c6-5e55-4824-8e61-e11d4d8041af"
      },
      "source": [
        " ## Image Alignment using RANSAC [ 40% ]\n"
      ]
    },
    {
      "cell_type": "markdown",
      "metadata": {
        "id": "f0ad0ccb-0f15-41ce-aec8-1b15071f77cc"
      },
      "source": [
        "Implement an affine transformation estimation using RANSAC in OpenCV.\n",
        "\n",
        "Steps:\n",
        "\n",
        "1. Extract keypoints and descriptors using OpenCV's SIFT or ORB.\n",
        "\n",
        "2. Match features between two images using cv2.BFMatcher.\n",
        "\n",
        "3. Estimate the transformation matrix using cv2.findHomography with RANSAC.\n",
        "\n",
        "4. Warp one image to align with the other using cv2.warpPerspective.\n",
        "\n",
        "5. Display and save the transformed image.\n",
        "\n",
        "Use cameraman.jpg and another transformed version of it for this task.\n"
      ]
    },
    {
      "cell_type": "code",
      "metadata": {
        "id": "a27a25b4-8ff0-4509-bec3-2f82d8653863"
      },
      "outputs": [],
      "source": [
        "upper = 150\n",
        "lower = 400\n",
        "crop_top = image[upper: lower,:,:]\n",
        "plt.figure(figsize=(10,10))\n",
        "plt.imshow(cv2.cvtColor(crop_top, cv2.COLOR_BGR2RGB))\n",
        "plt.show()"
      ],
      "execution_count": null
    }
  ],
  "metadata": {
    "kernelspec": {
      "display_name": "Python",
      "language": "python",
      "name": "conda-env-python-py"
    },
    "language_info": {
      "name": "python",
      "version": "3.7.12",
      "mimetype": "text/x-python",
      "codemirror_mode": {
        "name": "ipython",
        "version": 3
      },
      "pygments_lexer": "ipython3",
      "nbconvert_exporter": "python",
      "file_extension": ".py"
    },
    "prev_pub_hash": "6a90ffb7aed50528984281a7d2d8fb05d3512961684d2f4d202df1f92b7955c1",
    "colab": {
      "provenance": []
    }
  },
  "nbformat": 4,
  "nbformat_minor": 0
}